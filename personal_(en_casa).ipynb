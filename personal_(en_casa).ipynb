{
  "nbformat": 4,
  "nbformat_minor": 0,
  "metadata": {
    "colab": {
      "provenance": [],
      "include_colab_link": true
    },
    "kernelspec": {
      "name": "python3",
      "display_name": "Python 3"
    },
    "language_info": {
      "name": "python"
    }
  },
  "cells": [
    {
      "cell_type": "markdown",
      "metadata": {
        "id": "view-in-github",
        "colab_type": "text"
      },
      "source": [
        "<a href=\"https://colab.research.google.com/github/vportocarrera/index.html/blob/main/personal_(en_casa).ipynb\" target=\"_parent\"><img src=\"https://colab.research.google.com/assets/colab-badge.svg\" alt=\"Open In Colab\"/></a>"
      ]
    },
    {
      "cell_type": "code",
      "source": [
        "import random\n",
        "\n",
        "nombre_bot_supermercado = \"Bash\"\n",
        "intentos_maximos = 3\n",
        "\n",
        "while True:\n",
        "    print(\"Hola mi nombre es\", nombre_bot_supermercado)\n",
        "    print(\"Soy un bot del Supermarket VAG, quien te ayudará a que esta experiencia sea única\")\n",
        "    print(\"Te brindamos las siguientes opciones:\")\n",
        "    print(\"1. Locales cerca tuyo: Pedidos a domicilio\")\n",
        "    print(\"2. Consulta de puntos\")\n",
        "    print(\"3. Centro de ayuda\")\n",
        "    print(\"4. Salir\")\n",
        "\n",
        "    op = input(\"Ingrese una opción: \")\n",
        "\n",
        "    if op == \"1\":\n",
        "        print(\"\\nLocales cerca tuyo: Pedidos a domicilio\")\n",
        "        print(\"Norte\")\n",
        "        print(\"Centro\")\n",
        "        print(\"Sur\")\n",
        "        sectores = input(\"Ingresa tu sector: \")\n",
        "        print(\"\\nA. Megamaxi\")\n",
        "        print(\"B. Mi Comisariato\")\n",
        "        print(\"C. Tuti\")\n",
        "        supermercado = input(\"Ingrese una opción: \")\n",
        "        if supermercado == \"A\":\n",
        "            print(\"Megamaxi\")\n",
        "            print(\"A continuación te proporcionamos una lista de los alimentos disponibles en nuestra tienda:\")\n",
        "            alimentos_disponibles = [\"Arroz\", \"Leche\", \"Pan\", \"Huevos\", \"Pollo\"]\n",
        "            for alimento in alimentos_disponibles:\n",
        "                print(\"- \" + alimento)\n",
        "        elif supermercado == \"B\":\n",
        "            print(\"Mi Comisariato\")\n",
        "            print(\"A continuación te proporcionamos una lista de los alimentos disponibles en nuestra tienda:\")\n",
        "            alimentos_disponibles = [\"Fideos\", \"Queso\", \"Frutas\", \"Carne de res\", \"Aceite\"]\n",
        "            for alimento in alimentos_disponibles:\n",
        "                print(\"- \" + alimento)\n",
        "        elif supermercado == \"C\":\n",
        "            print(\"Tuti\")\n",
        "            print(\"A continuación te proporcionamos una lista de los alimentos disponibles en nuestra tienda:\")\n",
        "            alimentos_disponibles = [\"Papas\", \"Tomates\", \"Agua\", \"Galletas\", \"Sopa\"]\n",
        "            for alimento in alimentos_disponibles:\n",
        "                print(\"- \" + alimento)\n",
        "        else:\n",
        "            print(\"Opción Inválida\")\n",
        "\n",
        "    elif op == \"2\":\n",
        "        codigo_correcto = random.choice([\"0234\", \"1562\", \"2345\", \"0011\", \"1254\"])\n",
        "        print(f\"\\Su código es: {codigo_correcto}\")\n",
        "\n",
        "        intentos = 0\n",
        "        while intentos < intentos_maximos:\n",
        "            codigo_ingresado = input(\"Ingrese el código que aparece en pantalla: \")\n",
        "            if codigo_ingresado == codigo_correcto:\n",
        "                print(\"Código correcto. Usted consta de 25 puntos\")\n",
        "                break\n",
        "            else:\n",
        "                print(\"Código incorrecto. Inténtelo nuevamente.\")\n",
        "                intentos += 1\n",
        "\n",
        "        if intentos == intentos_maximos:\n",
        "            print(\"Límite de intentos alcanzado. Volviendo al menú principal.\")\n",
        "\n",
        "    elif op == \"3\":\n",
        "        print(\"\\nCentro de ayuda\")\n",
        "        ayuda = input(\"¿Cómo te podemos ayudar? Escribe tu duda aquí: \")\n",
        "        print(\"Gracias por comunicarnos tus inquietudes, pronto estaremos comunicandonos contigo para darte una respuesta\")\n",
        "\n",
        "    elif op == \"4\":\n",
        "        print(\"\\nGracias por su preferencia. ¡Hasta luego!\")\n",
        "        break\n",
        "\n",
        "    else:\n",
        "        print(\"\\nOpción Inválida\")\n",
        "\n",
        "    input(\"\\nPresione Enter para continuar...\")"
      ],
      "metadata": {
        "colab": {
          "base_uri": "https://localhost:8080/"
        },
        "id": "AcqYWx9SuYv1",
        "outputId": "9fc60694-0e69-4d98-fe20-c0b09357e193"
      },
      "execution_count": 10,
      "outputs": [
        {
          "output_type": "stream",
          "name": "stdout",
          "text": [
            "Hola mi nombre es Bash\n",
            "Soy un bot del Supermarket VAG, quien te ayudará a que esta experiencia sea única\n",
            "Te brindamos las siguientes opciones:\n",
            "1. Locales cerca tuyo: Pedidos a domicilio\n",
            "2. Consulta de puntos\n",
            "3. Centro de ayuda\n",
            "4. Salir\n",
            "Ingrese una opción: 1\n",
            "\n",
            "Locales cerca tuyo: Pedidos a domicilio\n",
            "Norte\n",
            "Centro\n",
            "Sur\n",
            "Ingresa tu sector: Norte\n",
            "\n",
            "A. Megamaxi\n",
            "B. Mi Comisariato\n",
            "C. Tuti\n",
            "Ingrese una opción: B\n",
            "Mi Comisariato\n",
            "A continuación te proporcionamos una lista de los alimentos disponibles en nuestra tienda:\n",
            "- Fideos\n",
            "- Queso\n",
            "- Frutas\n",
            "- Carne de res\n",
            "- Aceite\n",
            "\n",
            "Presione Enter para continuar...\n",
            "Hola mi nombre es Bash\n",
            "Soy un bot del Supermarket VAG, quien te ayudará a que esta experiencia sea única\n",
            "Te brindamos las siguientes opciones:\n",
            "1. Locales cerca tuyo: Pedidos a domicilio\n",
            "2. Consulta de puntos\n",
            "3. Centro de ayuda\n",
            "4. Salir\n",
            "Ingrese una opción: 4\n",
            "\n",
            "Gracias por su preferencia. ¡Hasta luego!\n"
          ]
        }
      ]
    }
  ]
}